{
 "cells": [
  {
   "cell_type": "code",
   "execution_count": null,
   "id": "bf4e93d7",
   "metadata": {},
   "outputs": [],
   "source": [
    "# Write a Python program to sum all the items in a list\n",
    "# Write a Python program to multiply all the items in a list\n",
    "# Write a Python program to get the largest number from a list.\n",
    "# Write a Python program to get the smallest number from a list"
   ]
  },
  {
   "cell_type": "code",
   "execution_count": 22,
   "id": "559b46e4",
   "metadata": {},
   "outputs": [],
   "source": [
    "class solve1:\n",
    "    def __init__(self, *lis):\n",
    "        self.lis = lis\n",
    "       \n",
    "    def add(self):\n",
    "        sum = 0\n",
    "        for i in self.lis:\n",
    "            sum = sum + i\n",
    "        \n",
    "        return sum\n",
    "    \n",
    "    def multiply(self):\n",
    "        mult = 1\n",
    "        for i in self.lis:\n",
    "            mult = mult * i\n",
    "            \n",
    "        return mult\n",
    "    \n",
    "    def largest(self):\n",
    "    \n",
    "        return max(self.lis)\n",
    "    \n",
    "    def smallest(self):\n",
    "    \n",
    "        return min(self.lis)\n",
    "    \n",
    "    def run(self):\n",
    "#         print(self.add())\n",
    "#         print(self.multiply())\n",
    "#         print(self.largest())\n",
    "#         print(self.smallest())\n",
    "        return self.add(), self.multiply(), self.largest(), self.smallest()\n"
   ]
  },
  {
   "cell_type": "code",
   "execution_count": 26,
   "id": "d055b235",
   "metadata": {},
   "outputs": [],
   "source": [
    "met = solve1(1,8,3,4)"
   ]
  },
  {
   "cell_type": "code",
   "execution_count": 27,
   "id": "a28ce79f",
   "metadata": {},
   "outputs": [],
   "source": [
    "a, b, c, d = met.run()"
   ]
  },
  {
   "cell_type": "code",
   "execution_count": 32,
   "id": "9153fd50",
   "metadata": {},
   "outputs": [
    {
     "data": {
      "text/plain": [
       "(16, 96, 8, 1)"
      ]
     },
     "execution_count": 32,
     "metadata": {},
     "output_type": "execute_result"
    }
   ],
   "source": [
    "met.run()"
   ]
  },
  {
   "cell_type": "code",
   "execution_count": null,
   "id": "c6d422c3",
   "metadata": {},
   "outputs": [],
   "source": []
  }
 ],
 "metadata": {
  "kernelspec": {
   "display_name": "Python 3",
   "language": "python",
   "name": "python3"
  },
  "language_info": {
   "codemirror_mode": {
    "name": "ipython",
    "version": 3
   },
   "file_extension": ".py",
   "mimetype": "text/x-python",
   "name": "python",
   "nbconvert_exporter": "python",
   "pygments_lexer": "ipython3",
   "version": "3.8.8"
  }
 },
 "nbformat": 4,
 "nbformat_minor": 5
}
